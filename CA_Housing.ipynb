{
 "cells": [
  {
   "cell_type": "markdown",
   "metadata": {},
   "source": [
    "## California Housing Project\n",
    "\n",
    "This lab shows the importance of location in the pricing of housing in California, showing that location along can account for 75% of the variation in housing prices. \n",
    "- The **first model** considers the house's simple geographic region and accounts for **20%** of the variation in housing price.\n",
    "- The **second model** considers the house's distance to large cities and accounts for **25%** of variation.\n",
    "- The **final model** considers the price of nearby homes and accounts for **75%** of the variation."
   ]
  },
  {
   "cell_type": "markdown",
   "metadata": {},
   "source": [
    "## EDA\n"
   ]
  },
  {
   "cell_type": "markdown",
   "metadata": {},
   "source": []
  }
 ],
 "metadata": {
  "language_info": {
   "name": "python"
  }
 },
 "nbformat": 4,
 "nbformat_minor": 2
}
