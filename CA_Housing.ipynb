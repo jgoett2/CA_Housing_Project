{
 "cells": [
  {
   "cell_type": "markdown",
   "metadata": {},
   "source": [
    "# California Housing Project\n",
    "\n",
    "This lab shows the importance of location in the pricing of housing in California, showing that location along can account for 75% of the variation in housing prices.  The lab uses older data, obtained during the 1990 Census. \n",
    "- The **first model** considers the house's simple geographic region and accounts for **20%** of the variation in housing price.\n",
    "- The **second model** considers the house's distance to large cities and accounts for **25%** of variation.\n",
    "- The **final model** considers the price of nearby homes and accounts for **75%** of the variation."
   ]
  },
  {
   "cell_type": "markdown",
   "metadata": {},
   "source": [
    "## EDA\n",
    "Load the dataset, look for correlation between housing features and housing price\n"
   ]
  },
  {
   "cell_type": "code",
   "execution_count": 1,
   "metadata": {},
   "outputs": [],
   "source": [
    "import numpy as np \n",
    "import pandas as pd \n",
    "import matplotlib.pyplot as plt \n",
    "import seaborn as sns\n",
    "import plotly.express as px\n",
    "import json\n",
    "\n",
    "from geopy.distance import geodesic\n",
    "\n",
    "from sklearn.datasets import fetch_california_housing\n",
    "from sklearn.model_selection import train_test_split\n",
    "from sklearn.model_selection import GridSearchCV\n",
    "from sklearn.pipeline import Pipeline\n",
    "\n",
    "from sklearn.linear_model import LinearRegression\n",
    "from sklearn.neighbors import KNeighborsRegressor"
   ]
  },
  {
   "cell_type": "code",
   "execution_count": 2,
   "metadata": {},
   "outputs": [
    {
     "data": {
      "text/html": [
       "<div>\n",
       "<style scoped>\n",
       "    .dataframe tbody tr th:only-of-type {\n",
       "        vertical-align: middle;\n",
       "    }\n",
       "\n",
       "    .dataframe tbody tr th {\n",
       "        vertical-align: top;\n",
       "    }\n",
       "\n",
       "    .dataframe thead th {\n",
       "        text-align: right;\n",
       "    }\n",
       "</style>\n",
       "<table border=\"1\" class=\"dataframe\">\n",
       "  <thead>\n",
       "    <tr style=\"text-align: right;\">\n",
       "      <th></th>\n",
       "      <th>MedInc</th>\n",
       "      <th>HouseAge</th>\n",
       "      <th>AveRooms</th>\n",
       "      <th>AveBedrms</th>\n",
       "      <th>Population</th>\n",
       "      <th>AveOccup</th>\n",
       "      <th>Latitude</th>\n",
       "      <th>Longitude</th>\n",
       "      <th>housing_price</th>\n",
       "    </tr>\n",
       "  </thead>\n",
       "  <tbody>\n",
       "    <tr>\n",
       "      <th>0</th>\n",
       "      <td>8.3252</td>\n",
       "      <td>41.0</td>\n",
       "      <td>6.984127</td>\n",
       "      <td>1.023810</td>\n",
       "      <td>322.0</td>\n",
       "      <td>2.555556</td>\n",
       "      <td>37.88</td>\n",
       "      <td>-122.23</td>\n",
       "      <td>4.526</td>\n",
       "    </tr>\n",
       "    <tr>\n",
       "      <th>1</th>\n",
       "      <td>8.3014</td>\n",
       "      <td>21.0</td>\n",
       "      <td>6.238137</td>\n",
       "      <td>0.971880</td>\n",
       "      <td>2401.0</td>\n",
       "      <td>2.109842</td>\n",
       "      <td>37.86</td>\n",
       "      <td>-122.22</td>\n",
       "      <td>3.585</td>\n",
       "    </tr>\n",
       "    <tr>\n",
       "      <th>2</th>\n",
       "      <td>7.2574</td>\n",
       "      <td>52.0</td>\n",
       "      <td>8.288136</td>\n",
       "      <td>1.073446</td>\n",
       "      <td>496.0</td>\n",
       "      <td>2.802260</td>\n",
       "      <td>37.85</td>\n",
       "      <td>-122.24</td>\n",
       "      <td>3.521</td>\n",
       "    </tr>\n",
       "    <tr>\n",
       "      <th>3</th>\n",
       "      <td>5.6431</td>\n",
       "      <td>52.0</td>\n",
       "      <td>5.817352</td>\n",
       "      <td>1.073059</td>\n",
       "      <td>558.0</td>\n",
       "      <td>2.547945</td>\n",
       "      <td>37.85</td>\n",
       "      <td>-122.25</td>\n",
       "      <td>3.413</td>\n",
       "    </tr>\n",
       "    <tr>\n",
       "      <th>4</th>\n",
       "      <td>3.8462</td>\n",
       "      <td>52.0</td>\n",
       "      <td>6.281853</td>\n",
       "      <td>1.081081</td>\n",
       "      <td>565.0</td>\n",
       "      <td>2.181467</td>\n",
       "      <td>37.85</td>\n",
       "      <td>-122.25</td>\n",
       "      <td>3.422</td>\n",
       "    </tr>\n",
       "  </tbody>\n",
       "</table>\n",
       "</div>"
      ],
      "text/plain": [
       "   MedInc  HouseAge  AveRooms  AveBedrms  Population  AveOccup  Latitude  \\\n",
       "0  8.3252      41.0  6.984127   1.023810       322.0  2.555556     37.88   \n",
       "1  8.3014      21.0  6.238137   0.971880      2401.0  2.109842     37.86   \n",
       "2  7.2574      52.0  8.288136   1.073446       496.0  2.802260     37.85   \n",
       "3  5.6431      52.0  5.817352   1.073059       558.0  2.547945     37.85   \n",
       "4  3.8462      52.0  6.281853   1.081081       565.0  2.181467     37.85   \n",
       "\n",
       "   Longitude  housing_price  \n",
       "0    -122.23          4.526  \n",
       "1    -122.22          3.585  \n",
       "2    -122.24          3.521  \n",
       "3    -122.25          3.413  \n",
       "4    -122.25          3.422  "
      ]
     },
     "execution_count": 2,
     "metadata": {},
     "output_type": "execute_result"
    }
   ],
   "source": [
    "housing = fetch_california_housing()\n",
    "\n",
    "df = pd.DataFrame(housing.data, columns=housing.feature_names)\n",
    "df[\"housing_price\"] = pd.DataFrame(housing.target, columns=housing.target_names)\n",
    "df.dropna(axis=1, inplace=True)\n",
    "#print(df.head().to_markdown())\n",
    "df.head()\n"
   ]
  },
  {
   "cell_type": "markdown",
   "metadata": {},
   "source": [
    "We see a **strong correlation** of both **Medium Income** (MedInc) **location** with housing price.  The highest priced housing can be found in the San Francisco, L.A., and San Diego regions, while the lower priced housing is in the Central Valley."
   ]
  },
  {
   "cell_type": "code",
   "execution_count": 3,
   "metadata": {},
   "outputs": [
    {
     "data": {
      "text/html": [
       "<div>\n",
       "<style scoped>\n",
       "    .dataframe tbody tr th:only-of-type {\n",
       "        vertical-align: middle;\n",
       "    }\n",
       "\n",
       "    .dataframe tbody tr th {\n",
       "        vertical-align: top;\n",
       "    }\n",
       "\n",
       "    .dataframe thead th {\n",
       "        text-align: right;\n",
       "    }\n",
       "</style>\n",
       "<table border=\"1\" class=\"dataframe\">\n",
       "  <thead>\n",
       "    <tr style=\"text-align: right;\">\n",
       "      <th></th>\n",
       "      <th>Price Correlation</th>\n",
       "    </tr>\n",
       "  </thead>\n",
       "  <tbody>\n",
       "    <tr>\n",
       "      <th>MedInc</th>\n",
       "      <td>0.688075</td>\n",
       "    </tr>\n",
       "    <tr>\n",
       "      <th>AveRooms</th>\n",
       "      <td>0.151948</td>\n",
       "    </tr>\n",
       "    <tr>\n",
       "      <th>HouseAge</th>\n",
       "      <td>0.105623</td>\n",
       "    </tr>\n",
       "    <tr>\n",
       "      <th>AveOccup</th>\n",
       "      <td>-0.023737</td>\n",
       "    </tr>\n",
       "    <tr>\n",
       "      <th>Population</th>\n",
       "      <td>-0.024650</td>\n",
       "    </tr>\n",
       "    <tr>\n",
       "      <th>AveBedrms</th>\n",
       "      <td>-0.046701</td>\n",
       "    </tr>\n",
       "  </tbody>\n",
       "</table>\n",
       "</div>"
      ],
      "text/plain": [
       "            Price Correlation\n",
       "MedInc               0.688075\n",
       "AveRooms             0.151948\n",
       "HouseAge             0.105623\n",
       "AveOccup            -0.023737\n",
       "Population          -0.024650\n",
       "AveBedrms           -0.046701"
      ]
     },
     "execution_count": 3,
     "metadata": {},
     "output_type": "execute_result"
    }
   ],
   "source": [
    "x = pd.DataFrame(df[[\"MedInc\", \"HouseAge\", \"AveRooms\", \"AveBedrms\", \"Population\", \"AveOccup\", \"housing_price\"]].corr()[\"housing_price\"])\n",
    "x.columns=[\"Price Correlation\"]\n",
    "x = x.drop(\"housing_price\").sort_values(by=\"Price Correlation\", ascending=False)\n",
    "\n",
    "#print(x.to_markdown(index=True))\n",
    "x"
   ]
  },
  {
   "cell_type": "code",
   "execution_count": 4,
   "metadata": {},
   "outputs": [],
   "source": [
    "map1 = px.scatter_map(df, lat=\"Latitude\", lon=\"Longitude\", color=\"housing_price\", width=600, height=600, center={\"lat\":36.43, \"lon\":-119.97}, zoom=5,\n",
    "               title = \"Housing Price (1990) by Location ($100,000)\")\n",
    "\n",
    "map1.write_image(\"img/map1.png\")"
   ]
  },
  {
   "cell_type": "markdown",
   "metadata": {},
   "source": [
    "<img src=\"img/map1.png\">"
   ]
  },
  {
   "cell_type": "markdown",
   "metadata": {},
   "source": [
    "## First Simple Model: Region of Housing\n",
    "As a simple initial model, we will model housing_price by 5 regions, which ultimately accounts for 20% of the variation in housing price.\n",
    "The model assigns these housing prices based on region, as discovered during model fitting:\n",
    "- San Francisco Region:\n",
    "- Los Angeles Region:\n",
    "- San Diego Region:\n",
    "- Central Valley Region:\n",
    "- Other Region: \n",
    "\n",
    "First, determine whether each housing block falls in a particular region.  Then, build and inspect a linear model of housing prices."
   ]
  },
  {
   "cell_type": "code",
   "execution_count": 5,
   "metadata": {},
   "outputs": [],
   "source": [
    "regions = {\"sf_region\": {\"h\":(38.09, -122.61), \"k\":(36.96, -121.99), \"r\":95},\n",
    "           \"la_region\": {\"h\":(34.11, -118.51), \"k\":(33.85, -117.85), \"r\":60},\n",
    "           \"sd_region\": {\"h\":(33.09, -117.14), \"k\":(32.67, -117.01), \"r\":42},\n",
    "           \"central_valley\": {\"h\":(38.83, -121.18), \"k\":(36.5, -119.36), \"r\":194}}\n",
    "\n",
    "def in_region(region, point):\n",
    "    return (geodesic(region[\"h\"], point).mi + geodesic(region[\"k\"], point).mi) < region[\"r\"]\n",
    "\n",
    "for region in regions:\n",
    "    df[region] = df[[\"Latitude\", \"Longitude\"]].apply(lambda x: in_region(regions[region], (x.iloc[0], x.iloc[1])), axis=1);"
   ]
  },
  {
   "cell_type": "code",
   "execution_count": 6,
   "metadata": {},
   "outputs": [
    {
     "data": {
      "text/plain": [
       "0.19510037086082188"
      ]
     },
     "execution_count": 6,
     "metadata": {},
     "output_type": "execute_result"
    }
   ],
   "source": [
    "X_train, X_test, y_train, y_test = train_test_split(df[[\"sf_region\", \"la_region\", \"sd_region\", \"central_valley\"]], df[\"housing_price\"], \n",
    "                                                    test_size=0.2, random_state=42)\n",
    "\n",
    "lr = LinearRegression()\n",
    "\n",
    "lr.fit(X_train, y_train)\n",
    "lr.score(X_test, y_test)"
   ]
  },
  {
   "cell_type": "code",
   "execution_count": 7,
   "metadata": {},
   "outputs": [
    {
     "data": {
      "text/html": [
       "<div>\n",
       "<style scoped>\n",
       "    .dataframe tbody tr th:only-of-type {\n",
       "        vertical-align: middle;\n",
       "    }\n",
       "\n",
       "    .dataframe tbody tr th {\n",
       "        vertical-align: top;\n",
       "    }\n",
       "\n",
       "    .dataframe thead th {\n",
       "        text-align: right;\n",
       "    }\n",
       "</style>\n",
       "<table border=\"1\" class=\"dataframe\">\n",
       "  <thead>\n",
       "    <tr style=\"text-align: right;\">\n",
       "      <th></th>\n",
       "      <th>Region</th>\n",
       "      <th>Housing Price ($ 100,000s)</th>\n",
       "    </tr>\n",
       "  </thead>\n",
       "  <tbody>\n",
       "    <tr>\n",
       "      <th>0</th>\n",
       "      <td>SF Region</td>\n",
       "      <td>2.838085</td>\n",
       "    </tr>\n",
       "    <tr>\n",
       "      <th>1</th>\n",
       "      <td>LA Region</td>\n",
       "      <td>2.390499</td>\n",
       "    </tr>\n",
       "    <tr>\n",
       "      <th>2</th>\n",
       "      <td>SD Region</td>\n",
       "      <td>1.975643</td>\n",
       "    </tr>\n",
       "    <tr>\n",
       "      <th>3</th>\n",
       "      <td>Central Valley</td>\n",
       "      <td>1.075977</td>\n",
       "    </tr>\n",
       "    <tr>\n",
       "      <th>4</th>\n",
       "      <td>Other</td>\n",
       "      <td>1.628394</td>\n",
       "    </tr>\n",
       "  </tbody>\n",
       "</table>\n",
       "</div>"
      ],
      "text/plain": [
       "           Region  Housing Price ($ 100,000s)\n",
       "0       SF Region                    2.838085\n",
       "1       LA Region                    2.390499\n",
       "2       SD Region                    1.975643\n",
       "3  Central Valley                    1.075977\n",
       "4           Other                    1.628394"
      ]
     },
     "execution_count": 7,
     "metadata": {},
     "output_type": "execute_result"
    }
   ],
   "source": [
    "samples = np.vstack([np.identity(4), [0,0,0,0]])\n",
    "samples = pd.DataFrame(samples, columns=X_train.columns)\n",
    "samples.index = [\"SF Region\", \"LA Region\", \"SD Region\", \"Central Valley\", \"Other\"]\n",
    "\n",
    "predictions = lr.predict(samples)\n",
    "prices = pd.DataFrame(zip(samples.index, predictions), columns=[\"Region\", \"Housing Price ($ 100,000s)\"])\n",
    "# print(prices.to_markdown(index=False))\n",
    "prices\n"
   ]
  },
  {
   "cell_type": "code",
   "execution_count": 8,
   "metadata": {},
   "outputs": [],
   "source": [
    "df[\"model_one_errors\"] = df[\"housing_price\"] - lr.predict(df[[\"sf_region\", \"la_region\", \"sd_region\", \"central_valley\"]])\n",
    "map_model_one_error = px.scatter_map(df, lat=\"Latitude\", lon=\"Longitude\", color=\"model_one_errors\", width=1000, height=600, \n",
    "               center={\"lat\":33.92, \"lon\":-117.97}, zoom=8, title=\"Errors in Model One ($100,000s)\")\n",
    "\n",
    "map_model_one_error.write_image(\"img/map_model_one_error.png\")"
   ]
  },
  {
   "cell_type": "markdown",
   "metadata": {},
   "source": [
    "<img src=\"img/map_model_one_error.png\">"
   ]
  },
  {
   "cell_type": "markdown",
   "metadata": {},
   "source": [
    "## Second Simple Model: Inverse Distance to City\n",
    "This model looks at price compared the to inverse distance to several desirable cities to live."
   ]
  },
  {
   "cell_type": "code",
   "execution_count": 9,
   "metadata": {},
   "outputs": [],
   "source": [
    "desirable_cities = {\"san_rafael\": (37.97,-122.53), \"san_francisco\": (37.77, -122.45), \n",
    "                    \"san_mateo\":(37.55, -122.31), \"redwood_city\": (37.43, -122.13),\n",
    "                    \"mountain_view\":(37.37, -122.07), \"cupertino\": (37.32, -122.02),\n",
    "                    \"montery\":(36.59, -121.93), \"santa_barbara\": (34.41, -119.71),\n",
    "                    \"la_beach\":(33.82, -118.38),\n",
    "                    \"santa_monica\":(34.03, -118.47), \"san_diego\": (32.08, -117.24)}\n",
    "\n",
    "def inverse_distance(location, desirable_city):\n",
    "    return 1/(1+geodesic(location, desirable_city).mi)"
   ]
  },
  {
   "cell_type": "code",
   "execution_count": 10,
   "metadata": {},
   "outputs": [],
   "source": [
    "for city in desirable_cities:\n",
    "  df[city] = df[[\"Latitude\", \"Longitude\"]].apply(lambda x: inverse_distance(desirable_cities[city], (x.iloc[0], x.iloc[1])), axis=1)"
   ]
  },
  {
   "cell_type": "code",
   "execution_count": 11,
   "metadata": {},
   "outputs": [
    {
     "data": {
      "text/plain": [
       "0.31015085618508265"
      ]
     },
     "execution_count": 11,
     "metadata": {},
     "output_type": "execute_result"
    }
   ],
   "source": [
    "X_train, X_test, y_train, y_test = train_test_split(df[desirable_cities.keys()], df[\"housing_price\"], test_size=0.2)\n",
    "\n",
    "lr_model_two = LinearRegression()\n",
    "\n",
    "lr_model_two.fit(X_train, y_train)\n",
    "lr_model_two.score(X_test, y_test)"
   ]
  },
  {
   "cell_type": "code",
   "execution_count": 12,
   "metadata": {},
   "outputs": [
    {
     "data": {
      "text/plain": [
       "<Axes: xlabel='model_two_residuals', ylabel='Count'>"
      ]
     },
     "execution_count": 12,
     "metadata": {},
     "output_type": "execute_result"
    },
    {
     "data": {
      "image/png": "[encoded data removed]",
      "text/plain": [
       "<Figure size 640x480 with 1 Axes>"
      ]
     },
     "metadata": {},
     "output_type": "display_data"
    }
   ],
   "source": [
    "df[\"model_two_residuals\"] = df[\"housing_price\"] - lr_model_two.predict(df[desirable_cities.keys()])\n",
    "\n",
    "sns.histplot(df[\"model_two_residuals\"])"
   ]
  },
  {
   "cell_type": "code",
   "execution_count": 13,
   "metadata": {},
   "outputs": [],
   "source": [
    "map_model_two_error = px.scatter_map(df, lat=\"Latitude\", lon=\"Longitude\", color=\"model_two_residuals\", width=1000, height=600, \n",
    "               center={\"lat\":33.92, \"lon\":-117.97}, zoom=8, title=\"Errors in Model Two ($100,000s)\")\n",
    "\n",
    "map_model_two_error.write_image('img/map_model_two_error.png')"
   ]
  },
  {
   "cell_type": "markdown",
   "metadata": {},
   "source": [
    "<img src=\"img/map_model_two_error.png\">"
   ]
  },
  {
   "cell_type": "markdown",
   "metadata": {},
   "source": [
    "## Third Model: Nearest Neighbors\n",
    "Considering the average housing prices of the 8 nearest housing units models 79% of the pricing variation."
   ]
  },
  {
   "cell_type": "code",
   "execution_count": 14,
   "metadata": {},
   "outputs": [
    {
     "data": {
      "text/plain": [
       "0.7917831940223699"
      ]
     },
     "execution_count": 14,
     "metadata": {},
     "output_type": "execute_result"
    }
   ],
   "source": [
    "X_train, X_test, y_train, y_test = train_test_split(df[[\"Latitude\", \"Longitude\"]], df[\"housing_price\"])\n",
    "\n",
    "gs = GridSearchCV(estimator=KNeighborsRegressor(), param_grid={\"n_neighbors\":[2,3,4,5,10,15,30]}, cv=5)\n",
    "\n",
    "gs.fit(X_train, y_train)\n",
    "\n",
    "gs.score(X_test, y_test)\n"
   ]
  },
  {
   "cell_type": "code",
   "execution_count": 15,
   "metadata": {},
   "outputs": [
    {
     "data": {
      "text/plain": [
       "<Axes: xlabel='model_three_residuals', ylabel='Count'>"
      ]
     },
     "execution_count": 15,
     "metadata": {},
     "output_type": "execute_result"
    },
    {
     "data": {
      "image/png": "[encoded data removed]",
      "text/plain": [
       "<Figure size 640x480 with 1 Axes>"
      ]
     },
     "metadata": {},
     "output_type": "display_data"
    }
   ],
   "source": [
    "df[\"model_three_residuals\"] = df[\"housing_price\"] - gs.predict(df[[\"Latitude\", \"Longitude\"]])\n",
    "sns.histplot(df[\"model_three_residuals\"])"
   ]
  },
  {
   "cell_type": "code",
   "execution_count": 16,
   "metadata": {},
   "outputs": [],
   "source": [
    "map_model_three_error = px.scatter_map(df, lat=\"Latitude\", lon=\"Longitude\", color=\"model_three_residuals\", width=1000, height=600, \n",
    "               center={\"lat\":33.92, \"lon\":-117.97}, zoom=8, title=\"Errors in Model Three ($100,000s)\")\n",
    "\n",
    "map_model_three_error.write_image('img/map_model_three_error.png')"
   ]
  },
  {
   "cell_type": "markdown",
   "metadata": {},
   "source": [
    "<img src=\"img/map_model_three_error.png\">"
   ]
  },
  {
   "cell_type": "markdown",
   "metadata": {},
   "source": [
    "## Fourth Model: Zipcodes\n",
    "In the final model, we calculate the median housing_price by zip code from training data, and determine it to be the best model of all."
   ]
  },
  {
   "cell_type": "code",
   "execution_count": null,
   "metadata": {},
   "outputs": [
    {
     "name": "stdout",
     "output_type": "stream",
     "text": [
      "0.9234015312260506\n"
     ]
    }
   ],
   "source": [
    "df = pd.read_csv(\"Data/housing.csv\")\n",
    "df.dropna(axis=0, inplace=True)\n",
    "\n",
    "X_train, X_test = train_test_split(df[[\"Latitude\", \"Longitude\", \"zipcode\", \"housing_price\"]], test_size=0.2, random_state=42)\n",
    "\n",
    "price_median = X_train.groupby(\"zipcode\").median()\n",
    "price_count = X_train.groupby(\"zipcode\").count()\n",
    "\n",
    "price_median[\"count\"] = price_count[\"housing_price\"]\n",
    "\n",
    "X_test[\"prediction\"] = X_test[\"zipcode\"].map(lambda x: price_median.loc[x][\"housing_price\"] if x in price_median.index else np.nan)\n",
    "\n",
    "X_test[\"model_four_residuals\"] = (X_test[\"prediction\"] - X_test[\"housing_price\"]) \n",
    "X_test[\"account\"] = (X_test[\"prediction\"] - X_test[\"housing_price\"].mean())/(X_test[\"housing_price\"] - X_test[\"housing_price\"].mean())\n",
    "\n",
    "price_median.reset_index(inplace=True) \n",
    "price_median[[\"zipcode\", \"count\", \"housing_price\"]].to_csv(\"Model/price_median.csv\", index=False) "
   ]
  },
  {
   "cell_type": "code",
   "execution_count": 37,
   "metadata": {},
   "outputs": [
    {
     "data": {
      "text/plain": [
       "<Axes: xlabel='model_four_residuals', ylabel='Count'>"
      ]
     },
     "execution_count": 37,
     "metadata": {},
     "output_type": "execute_result"
    },
    {
     "data": {
      "image/png": "[encoded data removed]",
      "text/plain": [
       "<Figure size 640x480 with 1 Axes>"
      ]
     },
     "metadata": {},
     "output_type": "display_data"
    }
   ],
   "source": [
    "sns.histplot(X_test[\"model_four_residuals\"])"
   ]
  },
  {
   "cell_type": "code",
   "execution_count": 45,
   "metadata": {},
   "outputs": [],
   "source": [
    "map_model_four_error = px.scatter_map(X_test, lat=\"Latitude\", lon=\"Longitude\", color=\"model_four_residuals\", width=1000, height=600, \n",
    "               center={\"lat\":33.92, \"lon\":-117.97}, zoom=8, title=\"Errors in Model Four ($100,000s)\")\n",
    "\n",
    "map_model_four_error.write_image('img/map_model_four_error.png')\n",
    "#map_model_four_error.show()"
   ]
  },
  {
   "cell_type": "markdown",
   "metadata": {},
   "source": [
    "<img src=\"img/map_model_four_error.png\">"
   ]
  },
  {
   "cell_type": "markdown",
   "metadata": {},
   "source": [
    "## Conclusion\n",
    "Our best model, which only considers the zip code of the house, can account for 92.4% of the variation in housing price across the state.  "
   ]
  },
  {
   "cell_type": "markdown",
   "metadata": {},
   "source": []
  }
 ],
 "metadata": {
  "kernelspec": {
   "display_name": "jeff-env",
   "language": "python",
   "name": "python3"
  },
  "language_info": {
   "codemirror_mode": {
    "name": "ipython",
    "version": 3
   },
   "file_extension": ".py",
   "mimetype": "text/x-python",
   "name": "python",
   "nbconvert_exporter": "python",
   "pygments_lexer": "ipython3",
   "version": "3.12.2"
  }
 },
 "nbformat": 4,
 "nbformat_minor": 2
}
