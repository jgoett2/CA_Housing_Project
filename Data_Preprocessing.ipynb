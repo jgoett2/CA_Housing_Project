{
 "cells": [
  {
   "cell_type": "markdown",
   "metadata": {},
   "source": [
    "## California Dataset Pre-Processing: Retrieve Zipcodes"
   ]
  },
  {
   "cell_type": "markdown",
   "metadata": {},
   "source": [
    "Retrieve an approximate street address from Google Maps for each latitude and longitude.  Extract zip code from address."
   ]
  },
  {
   "cell_type": "code",
   "execution_count": null,
   "metadata": {},
   "outputs": [],
   "source": [
    "import numpy as np\n",
    "import pandas as pd\n",
    "from sklearn.datasets import fetch_california_housing\n",
    "\n",
    "import time\n",
    "import re \n",
    "import os\n",
    "\n",
    "from dotenv import load_dotenv\n",
    "from geopy.geocoders import GoogleV3"
   ]
  },
  {
   "cell_type": "code",
   "execution_count": null,
   "metadata": {},
   "outputs": [],
   "source": [
    "load_dotenv()\n",
    "\n",
    "gc = GoogleV3(api_key=os.environ.get(\"GOOGLE_API_KEY\"))\n",
    "\n",
    "temp = fetch_california_housing()\n",
    "df = pd.DataFrame(temp.data, columns=temp.feature_names)\n",
    "df[\"housing_price\"] = pd.DataFrame(temp.target, columns=temp.target_names)\n",
    "df.dropna(axis=1, inplace=True)"
   ]
  },
  {
   "cell_type": "code",
   "execution_count": null,
   "metadata": {},
   "outputs": [],
   "source": [
    "pattern = re.compile(\"CA 9[0-9]{4}\")\n",
    "\n",
    "def get_zipcode(lat, long):\n",
    "    x = gc.reverse((lat, long))\n",
    "    print(x.address)\n",
    "    zip = re.findall(pattern, x.address)\n",
    "    time.sleep(1)\n",
    "    if len(zip) > 0:\n",
    "        return zip[0].split(\" \")[1]\n",
    "    else:\n",
    "        return None \n",
    "\n",
    "for i in np.arange(0,20000,100):\n",
    "    print(i)\n",
    "    df.loc[(df.index>i) & (df.index<=(i+100)) & (df.zipcode.isna()), \"zipcode\"] = df.loc[(df.index>i) & (df.index<=(i+100)) & (df.zipcode.isna()),[\"Latitude\",\"Longitude\"]].apply(lambda x: get_zipcode(x.iloc[0], x.iloc[1]), axis=1)\n",
    "    time.sleep(1)\n",
    "    df.to_csv(\"housing.csv\", index=True)"
   ]
  }
 ],
 "metadata": {
  "kernelspec": {
   "display_name": "jeff-env",
   "language": "python",
   "name": "python3"
  },
  "language_info": {
   "codemirror_mode": {
    "name": "ipython",
    "version": 3
   },
   "file_extension": ".py",
   "mimetype": "text/x-python",
   "name": "python",
   "nbconvert_exporter": "python",
   "pygments_lexer": "ipython3",
   "version": "3.12.2"
  }
 },
 "nbformat": 4,
 "nbformat_minor": 2
}
